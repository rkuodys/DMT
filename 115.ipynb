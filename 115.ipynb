{
  "cells": [
    {
      "cell_type": "markdown",
      "id": "2f339925-6d7a-4ce7-bda5-c55ef413aefe",
      "metadata": {
        "id": "2f339925-6d7a-4ce7-bda5-c55ef413aefe"
      },
      "source": [
        "# Module 1: Data Wrangling with Python"
      ]
    },
    {
      "cell_type": "code",
      "source": [
        "!pip install --index-url https://test.pypi.org/simple boring_calculator\n",
        "\n"
      ],
      "metadata": {
        "colab": {
          "base_uri": "https://localhost:8080/"
        },
        "id": "TCmpvM1SAB_X",
        "outputId": "361a8420-03ca-489b-af41-593bbd46a49b"
      },
      "id": "TCmpvM1SAB_X",
      "execution_count": 1,
      "outputs": [
        {
          "output_type": "stream",
          "name": "stdout",
          "text": [
            "Looking in indexes: https://test.pypi.org/simple, https://us-python.pkg.dev/colab-wheels/public/simple/\n",
            "Collecting boring_calculator\n",
            "  Downloading https://test-files.pythonhosted.org/packages/76/d9/375488bc1394533b9d2a4422feaa2415ffda8c51321dd71475573fe481b3/boring_calculator-0.2.2-py3-none-any.whl (2.8 kB)\n",
            "Installing collected packages: boring_calculator\n",
            "Successfully installed boring_calculator-0.2.2\n"
          ]
        }
      ]
    },
    {
      "cell_type": "code",
      "source": [
        "from boring_calculator import Calculator"
      ],
      "metadata": {
        "id": "oHivPpliDO3N"
      },
      "id": "oHivPpliDO3N",
      "execution_count": 2,
      "outputs": []
    },
    {
      "cell_type": "code",
      "source": [
        "calculator = Calculator()\n",
        "\n",
        "result = calculator.add(2.0)\n",
        "print(f\"Result after adding 5.0: {result}\")\n",
        "\n",
        "result = calculator.subtract(3.0)\n",
        "print(f\"Result after subtracting 3.0: {result}\")\n",
        "\n",
        "result = calculator.multiply(4.0)\n",
        "print(f\"Result after multiplying by 4.0: {result}\")\n",
        "\n",
        "result = calculator.divide(2.0)\n",
        "print(f\"Result after dividing by 2.0: {result}\")\n",
        "\n",
        "result = calculator.root(3)\n",
        "print(f\"Result after taking cubic root: {result}\")\n",
        "\n",
        "result = calculator.reset()\n",
        "print(f\"Result after resetting memory: {result}\")"
      ],
      "metadata": {
        "id": "KMPON8DwDXZS",
        "outputId": "c7482137-b78f-4b6e-8bb1-044ae24ff00a",
        "colab": {
          "base_uri": "https://localhost:8080/"
        }
      },
      "id": "KMPON8DwDXZS",
      "execution_count": 3,
      "outputs": [
        {
          "output_type": "stream",
          "name": "stdout",
          "text": [
            "Result after adding 5.0: 5.0\n",
            "Result after subtracting 3.0: 2.0\n",
            "Result after multiplying by 4.0: 8.0\n",
            "Result after dividing by 2.0: 4.0\n",
            "Result after taking cubic root: 1.5874010519681994\n",
            "Result after resetting memory: 0\n"
          ]
        }
      ]
    },
    {
      "cell_type": "code",
      "source": [
        "calculator.add(4)"
      ],
      "metadata": {
        "id": "Znrz1AMPz437",
        "outputId": "a70a2903-87de-4403-b705-91e5e2989294",
        "colab": {
          "base_uri": "https://localhost:8080/"
        }
      },
      "id": "Znrz1AMPz437",
      "execution_count": 4,
      "outputs": [
        {
          "output_type": "execute_result",
          "data": {
            "text/plain": [
              "4"
            ]
          },
          "metadata": {},
          "execution_count": 4
        }
      ]
    },
    {
      "cell_type": "code",
      "source": [
        "calculator.root(4)"
      ],
      "metadata": {
        "id": "L_Ly7dpSz-ey",
        "outputId": "b2ae1ec1-16cf-434b-cbde-dd0f47bd85ee",
        "colab": {
          "base_uri": "https://localhost:8080/"
        }
      },
      "id": "L_Ly7dpSz-ey",
      "execution_count": 6,
      "outputs": [
        {
          "output_type": "execute_result",
          "data": {
            "text/plain": [
              "1.6973426460728507"
            ]
          },
          "metadata": {},
          "execution_count": 6
        }
      ]
    },
    {
      "cell_type": "markdown",
      "id": "c38c74b3-b719-4a36-88b9-f1a2f607e568",
      "metadata": {
        "id": "c38c74b3-b719-4a36-88b9-f1a2f607e568"
      },
      "source": [
        "## Sprint 1: Python Mastery"
      ]
    },
    {
      "cell_type": "markdown",
      "id": "6b003ebe-8ea9-42e3-89b3-9a9fdd3c3dde",
      "metadata": {
        "id": "6b003ebe-8ea9-42e3-89b3-9a9fdd3c3dde"
      },
      "source": [
        "## Part 5: Calculator"
      ]
    },
    {
      "cell_type": "markdown",
      "id": "ed198d32-d3af-407f-bd29-43132d8a288f",
      "metadata": {
        "id": "ed198d32-d3af-407f-bd29-43132d8a288f"
      },
      "source": [
        "## New additions to the project review process\n",
        "\n",
        "This is your first full practical project. Practical projects at the end of the Sprint will be reviewed by others - usually by one Senior Team Lead and one peer learner.\n",
        "\n",
        "Peer reviews have a much smaller weight compared to STLs when calculating the final score of a project since we are not expecting learners to always be fully objective. The STL score makes up 70% of the final score, while the peer correction makes up 30%. The final weighted average score of both projects needs to be at least 70% to pass. This means that in extreme cases, even if you get 0% from a peer review, you can still pass the project if you get 100% from an STL (0% * 0.3 + 100% * 0.7 = 70%). \n",
        "\n",
        "STLs have an opportunity to \"force fail\" a project, however. If they see that regardless of the score received, you would still benefit greatly from improving the project and having another set of corrections, they will use this option which will lead to you requiring to re-do the correction. In the platform, this will be shown as a 0% score from the STL (even though individual criteria may lead to a higher score).\n",
        "\n",
        "This is also why learners often prefer to do the peer correction first (even though is is **not** a requirement) – you can get useful feedback from your peers, improve the project and then have the STL correction.\n",
        "\n",
        "When booking a peer correction, you might get an STL if there are no learners available. This will result in both corrections being performed by an STL. However, the same STL cannot perform both corrections.\n",
        "\n",
        "To become available to review others' projects yourself, you should click on the \"My Availability\" button in the top left corner of the Turing platform. By doing these corrections, you will receive correction points which you will need to receive further corrections yourself. Correction points are used every time you book a peer or STL review. You should set your availability once you complete this project, as you will then be able to start reviewing other learners who still need to complete this project.\n",
        "\n",
        "A learner can become a reviewer for a project when they have successfully passed the corrections for that Sprint themselves.\n",
        "\n",
        "## About this Part\n",
        "\n",
        "Congrats!\n",
        "You completed almost all assignments and tasks of this Sprint.\n",
        "You did a great job.\n",
        "In this Part, you will need to prove all the skills that you learned.\n",
        "As the final assignment of this Sprint, you will have to create your own Python package.\n",
        "You will have to apply all that you have learned about OOP and \"Clean Code\" concepts.\n",
        "\n",
        "P.S. we don't expect this project to be perfect - you will continue to improve your skills and there will be many projects for you to apply your newly gained skills in the future.\n",
        "For now just use what you have learned and try your best!\n",
        "\n",
        "## Objectives for this Part\n",
        "\n",
        "- Practice writing clean OOP-based Python code and testing it.\n",
        "- Practice creating your own Python package.\n",
        "- Understand and apply the required software license for your package.\n",
        "- Practice dealing with Python environments.\n",
        "\n",
        "---\n",
        "\n",
        "## The calculator\n",
        "\n",
        "You will need to create a Python module and later transform it into a package.\n",
        "This module will be a calculator.\n",
        "What you should do at first is initialize a new Python package structure and create a new file that will be used as a module.\n",
        "\n",
        "## Writing tests and documentation\n",
        "\n",
        "You should also write tests that ensure that the basic functionality of the class is covered.\n",
        "Make sure that math operations returns expected results. Document your calculator class using docstrings.\n",
        "Add an explanation of the package to the README file.\n",
        "Try to be as specific as possible: include instructions on how to install the package, how to use particular methods.  \n",
        "\n",
        "---\n",
        "\n",
        "## Requirements\n",
        "\n",
        "The main package file should contain a class `Calculator` that should be able to perform these actions:  \n",
        "\n",
        "- Addition / Subtraction.\n",
        "- Multiplication / Division.\n",
        "- Take (n) root of a number.\n",
        "- Reset memory (**Calculator must have its own memory, meaning it should manipulate its starting number `0` until it is reset.**).\n",
        "\n",
        "This means that, for example, `calculator` should perform actions with a value inside its memory (for this example, the value inside the calculator's memory is `0`): `calculator.add(2)` results in `2`.\n",
        "\n",
        "Present your newly created Python package:\n",
        "\n",
        "* Make a short introduction to the repository of the package.\n",
        "* Install the package into the Google Colab's env using `pip`.\n",
        "* Showcase functionality of the created package.\n",
        "\n",
        "## Evaluation criteria\n",
        "\n",
        "1. Correct Python Package structure is initialized.\n",
        "2. Calculator module is created.\n",
        "3. Calculator class performs required actions.\n",
        "4. Tests are written.\n",
        "5. Code is written with PEP8 standards in mind.\n",
        "6. Code is well-documented.\n",
        "7. Project has an informative README file.\n",
        "8. Package is installable through `pip`.\n",
        "\n",
        "## Correction\n",
        "\n",
        "During your project correction, you should present it as if talking to a technical team lead and a senior co-worker working in your team.\n",
        "You can assume that they will have strong data science and software engineering skills - they will understand technical jargon, they are expected to notice things that could have been done better, ask about the choices you've made (especially if you've made some questionable choices).\n",
        "In addition, be careful not to spend your time explaining trivial concepts or code snippets that are simple - your best bet is to focus your presentation on the more difficult portions of your code.\n",
        "\n",
        "During a correction, you may get asked questions that test your understanding of covered topics.\n",
        "\n",
        "- What is Object-Oriented Programming? Select and explain two examples where using OOP concepts can improve the quality and usability of code.\n",
        "- What is \"Clean Code\"? Select four main key concepts and explain them using real-world examples.\n",
        "- Why do we need to document code? How can you do it? What should be provided inside the documentation?\n",
        "- Explain containerization. Why would you want to use one? What are the main differences between virtualization and containerization?\n"
      ]
    },
    {
      "cell_type": "markdown",
      "id": "b7e8632f-4598-45e7-950c-9d8ec35df00b",
      "metadata": {
        "id": "b7e8632f-4598-45e7-950c-9d8ec35df00b"
      },
      "source": [
        "## General Correction Guidelines\n",
        "\n",
        "For an in-depth explanation about how corrections work at Turing College, please read [this doc](https://turingcollege.atlassian.net/wiki/spaces/DLG/pages/537395951/Peer+expert+reviews+corrections).\n"
      ]
    }
  ],
  "metadata": {
    "kernelspec": {
      "display_name": "Python 3",
      "language": "python",
      "name": "python3"
    },
    "language_info": {
      "codemirror_mode": {
        "name": "ipython",
        "version": 3
      },
      "file_extension": ".py",
      "mimetype": "text/x-python",
      "name": "python",
      "nbconvert_exporter": "python",
      "pygments_lexer": "ipython3",
      "version": "3.9.5"
    },
    "colab": {
      "provenance": []
    }
  },
  "nbformat": 4,
  "nbformat_minor": 5
}